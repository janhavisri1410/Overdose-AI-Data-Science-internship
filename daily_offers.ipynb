{
  "nbformat": 4,
  "nbformat_minor": 0,
  "metadata": {
    "colab": {
      "provenance": [],
      "include_colab_link": true
    },
    "kernelspec": {
      "name": "python3",
      "display_name": "Python 3"
    },
    "language_info": {
      "name": "python"
    },
    "gpuClass": "standard",
    "accelerator": "GPU"
  },
  "cells": [
    {
      "cell_type": "markdown",
      "metadata": {
        "id": "view-in-github",
        "colab_type": "text"
      },
      "source": [
        "<a href=\"https://colab.research.google.com/github/Aryann29/Steel_Price_Prediction--daily-offers-overdose.ai-/blob/main/daily_offers.ipynb\" target=\"_parent\"><img src=\"https://colab.research.google.com/assets/colab-badge.svg\" alt=\"Open In Colab\"/></a>"
      ]
    },
    {
      "cell_type": "markdown",
      "source": [
        "# Installing Required Modules"
      ],
      "metadata": {
        "id": "p7A1IE3O16iX"
      }
    },
    {
      "cell_type": "code",
      "source": [
        "!pip install lazypredict"
      ],
      "metadata": {
        "id": "EsW7xr4bGHUv"
      },
      "execution_count": null,
      "outputs": []
    },
    {
      "cell_type": "code",
      "execution_count": null,
      "metadata": {
        "id": "fHCM6v_m6OtU",
        "colab": {
          "base_uri": "https://localhost:8080/"
        },
        "outputId": "9ed6f7a1-bfbe-4126-c337-b80ee0693891"
      },
      "outputs": [
        {
          "output_type": "stream",
          "name": "stdout",
          "text": [
            "Mounted at /content/drive\n"
          ]
        }
      ],
      "source": [
        "from google.colab import drive\n",
        "drive.mount('/content/drive')"
      ]
    },
    {
      "cell_type": "markdown",
      "source": [
        "# Importing Data and libraries"
      ],
      "metadata": {
        "id": "bOQLzw3_d3tm"
      }
    },
    {
      "cell_type": "code",
      "source": [
        "import pandas as pd\n",
        "import numpy as np\n",
        "import matplotlib.pyplot as plt\n",
        "import seaborn as sns\n",
        "\n",
        "from datetime import datetime\n",
        "from sklearn.preprocessing import LabelEncoder\n",
        "from sklearn.model_selection import train_test_split\n",
        "\n",
        "\n",
        "from lazypredict.Supervised import LazyRegressor\n",
        "from sklearn.linear_model import LinearRegression, Ridge, Lasso, ElasticNet\n",
        "from sklearn.tree import DecisionTreeRegressor\n",
        "from sklearn.ensemble import RandomForestRegressor, GradientBoostingRegressor\n",
        "from xgboost import XGBRegressor\n",
        "from lightgbm import LGBMRegressor\n",
        "\n",
        "from sklearn.model_selection import GridSearchCV\n"
      ],
      "metadata": {
        "id": "BYYzyNZA7Ndi"
      },
      "execution_count": null,
      "outputs": []
    },
    {
      "cell_type": "code",
      "source": [
        "dfa = pd.read_csv('/content/drive/MyDrive/overdose.ai/datasets/daily_offers.csv', low_memory=False)"
      ],
      "metadata": {
        "id": "ES0XD25t69rY"
      },
      "execution_count": null,
      "outputs": []
    },
    {
      "cell_type": "markdown",
      "source": [
        "# EDA"
      ],
      "metadata": {
        "id": "tId5MD_veQsX"
      }
    },
    {
      "cell_type": "code",
      "source": [
        "dfa.info()"
      ],
      "metadata": {
        "id": "HdzLbAbh_wuc",
        "colab": {
          "base_uri": "https://localhost:8080/"
        },
        "outputId": "4a56516f-5fe9-4742-baaf-0b33e3667690"
      },
      "execution_count": null,
      "outputs": [
        {
          "output_type": "stream",
          "name": "stdout",
          "text": [
            "<class 'pandas.core.frame.DataFrame'>\n",
            "RangeIndex: 181673 entries, 0 to 181672\n",
            "Data columns (total 14 columns):\n",
            " #   Column         Non-Null Count   Dtype  \n",
            "---  ------         --------------   -----  \n",
            " 0   id             181671 non-null  object \n",
            " 1   item_date      181672 non-null  float64\n",
            " 2   quantity tons  181673 non-null  object \n",
            " 3   customer       181672 non-null  float64\n",
            " 4   country        181645 non-null  float64\n",
            " 5   status         181671 non-null  object \n",
            " 6   item type      181673 non-null  object \n",
            " 7   application    181649 non-null  float64\n",
            " 8   thickness      181672 non-null  float64\n",
            " 9   width          181673 non-null  float64\n",
            " 10  material_ref   103754 non-null  object \n",
            " 11  product_ref    181673 non-null  int64  \n",
            " 12  delivery date  181672 non-null  float64\n",
            " 13  selling_price  181672 non-null  float64\n",
            "dtypes: float64(8), int64(1), object(5)\n",
            "memory usage: 19.4+ MB\n"
          ]
        }
      ]
    },
    {
      "cell_type": "code",
      "source": [
        "dfa.sample(5)"
      ],
      "metadata": {
        "id": "SnInuGUo7Yw6",
        "colab": {
          "base_uri": "https://localhost:8080/",
          "height": 547
        },
        "outputId": "e3d83f40-02b1-414a-a8b0-0759b9d98bb8"
      },
      "execution_count": null,
      "outputs": [
        {
          "output_type": "execute_result",
          "data": {
            "text/plain": [
              "                                          id   item_date quantity tons  \\\n",
              "74470   F4DEC284-C56A-4083-9E84-69705BBEB3A5 20201216.00   10.77982371   \n",
              "101026  AC3903D1-144D-44FD-A406-BAEDA7461B9F 20201118.00   28.93850677   \n",
              "56615   422FF40E-E4FA-4CDB-AAAD-5FE6494A5DB1 20210121.00   753.6071089   \n",
              "12864   D0CA7D00-54FC-48F0-911F-33F9214DE7DD 20210317.00   23.89995344   \n",
              "128764  ECEBEDAA-84F1-424B-9E09-707595CB44FE 20201007.00   33.82052852   \n",
              "\n",
              "          customer  country status item type  application  thickness   width  \\\n",
              "74470  30202938.00    25.00    Won         W        41.00       2.50 1350.00   \n",
              "101026 30147722.00    78.00    Won         W        41.00       0.50 1210.00   \n",
              "56615  30268901.00    28.00    Won        PL        10.00      14.99 1500.00   \n",
              "12864  30161088.00    78.00    Won         W        10.00       1.50 1150.00   \n",
              "128764 30198507.00    26.00    Won         W        10.00       1.00 1408.00   \n",
              "\n",
              "                                    material_ref  product_ref  delivery date  \\\n",
              "74470   0000000000000000000000000000000000101892    164141591    20210101.00   \n",
              "101026                                       NaN       611993    20201201.00   \n",
              "56615                                  NADS3JRGS   1670798778    20210201.00   \n",
              "12864                         DX51D+Z100 EKO 2.2    164141591    20210601.00   \n",
              "128764  0000000000000000000000000000000015039887       628377    20210101.00   \n",
              "\n",
              "        selling_price  \n",
              "74470          828.00  \n",
              "101026         913.00  \n",
              "56615          761.50  \n",
              "12864          959.00  \n",
              "128764         717.00  "
            ],
            "text/html": [
              "\n",
              "  <div id=\"df-834ba191-db79-4d0a-af97-2bbcfdf1257d\">\n",
              "    <div class=\"colab-df-container\">\n",
              "      <div>\n",
              "<style scoped>\n",
              "    .dataframe tbody tr th:only-of-type {\n",
              "        vertical-align: middle;\n",
              "    }\n",
              "\n",
              "    .dataframe tbody tr th {\n",
              "        vertical-align: top;\n",
              "    }\n",
              "\n",
              "    .dataframe thead th {\n",
              "        text-align: right;\n",
              "    }\n",
              "</style>\n",
              "<table border=\"1\" class=\"dataframe\">\n",
              "  <thead>\n",
              "    <tr style=\"text-align: right;\">\n",
              "      <th></th>\n",
              "      <th>id</th>\n",
              "      <th>item_date</th>\n",
              "      <th>quantity tons</th>\n",
              "      <th>customer</th>\n",
              "      <th>country</th>\n",
              "      <th>status</th>\n",
              "      <th>item type</th>\n",
              "      <th>application</th>\n",
              "      <th>thickness</th>\n",
              "      <th>width</th>\n",
              "      <th>material_ref</th>\n",
              "      <th>product_ref</th>\n",
              "      <th>delivery date</th>\n",
              "      <th>selling_price</th>\n",
              "    </tr>\n",
              "  </thead>\n",
              "  <tbody>\n",
              "    <tr>\n",
              "      <th>74470</th>\n",
              "      <td>F4DEC284-C56A-4083-9E84-69705BBEB3A5</td>\n",
              "      <td>20201216.00</td>\n",
              "      <td>10.77982371</td>\n",
              "      <td>30202938.00</td>\n",
              "      <td>25.00</td>\n",
              "      <td>Won</td>\n",
              "      <td>W</td>\n",
              "      <td>41.00</td>\n",
              "      <td>2.50</td>\n",
              "      <td>1350.00</td>\n",
              "      <td>0000000000000000000000000000000000101892</td>\n",
              "      <td>164141591</td>\n",
              "      <td>20210101.00</td>\n",
              "      <td>828.00</td>\n",
              "    </tr>\n",
              "    <tr>\n",
              "      <th>101026</th>\n",
              "      <td>AC3903D1-144D-44FD-A406-BAEDA7461B9F</td>\n",
              "      <td>20201118.00</td>\n",
              "      <td>28.93850677</td>\n",
              "      <td>30147722.00</td>\n",
              "      <td>78.00</td>\n",
              "      <td>Won</td>\n",
              "      <td>W</td>\n",
              "      <td>41.00</td>\n",
              "      <td>0.50</td>\n",
              "      <td>1210.00</td>\n",
              "      <td>NaN</td>\n",
              "      <td>611993</td>\n",
              "      <td>20201201.00</td>\n",
              "      <td>913.00</td>\n",
              "    </tr>\n",
              "    <tr>\n",
              "      <th>56615</th>\n",
              "      <td>422FF40E-E4FA-4CDB-AAAD-5FE6494A5DB1</td>\n",
              "      <td>20210121.00</td>\n",
              "      <td>753.6071089</td>\n",
              "      <td>30268901.00</td>\n",
              "      <td>28.00</td>\n",
              "      <td>Won</td>\n",
              "      <td>PL</td>\n",
              "      <td>10.00</td>\n",
              "      <td>14.99</td>\n",
              "      <td>1500.00</td>\n",
              "      <td>NADS3JRGS</td>\n",
              "      <td>1670798778</td>\n",
              "      <td>20210201.00</td>\n",
              "      <td>761.50</td>\n",
              "    </tr>\n",
              "    <tr>\n",
              "      <th>12864</th>\n",
              "      <td>D0CA7D00-54FC-48F0-911F-33F9214DE7DD</td>\n",
              "      <td>20210317.00</td>\n",
              "      <td>23.89995344</td>\n",
              "      <td>30161088.00</td>\n",
              "      <td>78.00</td>\n",
              "      <td>Won</td>\n",
              "      <td>W</td>\n",
              "      <td>10.00</td>\n",
              "      <td>1.50</td>\n",
              "      <td>1150.00</td>\n",
              "      <td>DX51D+Z100 EKO 2.2</td>\n",
              "      <td>164141591</td>\n",
              "      <td>20210601.00</td>\n",
              "      <td>959.00</td>\n",
              "    </tr>\n",
              "    <tr>\n",
              "      <th>128764</th>\n",
              "      <td>ECEBEDAA-84F1-424B-9E09-707595CB44FE</td>\n",
              "      <td>20201007.00</td>\n",
              "      <td>33.82052852</td>\n",
              "      <td>30198507.00</td>\n",
              "      <td>26.00</td>\n",
              "      <td>Won</td>\n",
              "      <td>W</td>\n",
              "      <td>10.00</td>\n",
              "      <td>1.00</td>\n",
              "      <td>1408.00</td>\n",
              "      <td>0000000000000000000000000000000015039887</td>\n",
              "      <td>628377</td>\n",
              "      <td>20210101.00</td>\n",
              "      <td>717.00</td>\n",
              "    </tr>\n",
              "  </tbody>\n",
              "</table>\n",
              "</div>\n",
              "      <button class=\"colab-df-convert\" onclick=\"convertToInteractive('df-834ba191-db79-4d0a-af97-2bbcfdf1257d')\"\n",
              "              title=\"Convert this dataframe to an interactive table.\"\n",
              "              style=\"display:none;\">\n",
              "        \n",
              "  <svg xmlns=\"http://www.w3.org/2000/svg\" height=\"24px\"viewBox=\"0 0 24 24\"\n",
              "       width=\"24px\">\n",
              "    <path d=\"M0 0h24v24H0V0z\" fill=\"none\"/>\n",
              "    <path d=\"M18.56 5.44l.94 2.06.94-2.06 2.06-.94-2.06-.94-.94-2.06-.94 2.06-2.06.94zm-11 1L8.5 8.5l.94-2.06 2.06-.94-2.06-.94L8.5 2.5l-.94 2.06-2.06.94zm10 10l.94 2.06.94-2.06 2.06-.94-2.06-.94-.94-2.06-.94 2.06-2.06.94z\"/><path d=\"M17.41 7.96l-1.37-1.37c-.4-.4-.92-.59-1.43-.59-.52 0-1.04.2-1.43.59L10.3 9.45l-7.72 7.72c-.78.78-.78 2.05 0 2.83L4 21.41c.39.39.9.59 1.41.59.51 0 1.02-.2 1.41-.59l7.78-7.78 2.81-2.81c.8-.78.8-2.07 0-2.86zM5.41 20L4 18.59l7.72-7.72 1.47 1.35L5.41 20z\"/>\n",
              "  </svg>\n",
              "      </button>\n",
              "      \n",
              "  <style>\n",
              "    .colab-df-container {\n",
              "      display:flex;\n",
              "      flex-wrap:wrap;\n",
              "      gap: 12px;\n",
              "    }\n",
              "\n",
              "    .colab-df-convert {\n",
              "      background-color: #E8F0FE;\n",
              "      border: none;\n",
              "      border-radius: 50%;\n",
              "      cursor: pointer;\n",
              "      display: none;\n",
              "      fill: #1967D2;\n",
              "      height: 32px;\n",
              "      padding: 0 0 0 0;\n",
              "      width: 32px;\n",
              "    }\n",
              "\n",
              "    .colab-df-convert:hover {\n",
              "      background-color: #E2EBFA;\n",
              "      box-shadow: 0px 1px 2px rgba(60, 64, 67, 0.3), 0px 1px 3px 1px rgba(60, 64, 67, 0.15);\n",
              "      fill: #174EA6;\n",
              "    }\n",
              "\n",
              "    [theme=dark] .colab-df-convert {\n",
              "      background-color: #3B4455;\n",
              "      fill: #D2E3FC;\n",
              "    }\n",
              "\n",
              "    [theme=dark] .colab-df-convert:hover {\n",
              "      background-color: #434B5C;\n",
              "      box-shadow: 0px 1px 3px 1px rgba(0, 0, 0, 0.15);\n",
              "      filter: drop-shadow(0px 1px 2px rgba(0, 0, 0, 0.3));\n",
              "      fill: #FFFFFF;\n",
              "    }\n",
              "  </style>\n",
              "\n",
              "      <script>\n",
              "        const buttonEl =\n",
              "          document.querySelector('#df-834ba191-db79-4d0a-af97-2bbcfdf1257d button.colab-df-convert');\n",
              "        buttonEl.style.display =\n",
              "          google.colab.kernel.accessAllowed ? 'block' : 'none';\n",
              "\n",
              "        async function convertToInteractive(key) {\n",
              "          const element = document.querySelector('#df-834ba191-db79-4d0a-af97-2bbcfdf1257d');\n",
              "          const dataTable =\n",
              "            await google.colab.kernel.invokeFunction('convertToInteractive',\n",
              "                                                     [key], {});\n",
              "          if (!dataTable) return;\n",
              "\n",
              "          const docLinkHtml = 'Like what you see? Visit the ' +\n",
              "            '<a target=\"_blank\" href=https://colab.research.google.com/notebooks/data_table.ipynb>data table notebook</a>'\n",
              "            + ' to learn more about interactive tables.';\n",
              "          element.innerHTML = '';\n",
              "          dataTable['output_type'] = 'display_data';\n",
              "          await google.colab.output.renderOutput(dataTable, element);\n",
              "          const docLink = document.createElement('div');\n",
              "          docLink.innerHTML = docLinkHtml;\n",
              "          element.appendChild(docLink);\n",
              "        }\n",
              "      </script>\n",
              "    </div>\n",
              "  </div>\n",
              "  "
            ]
          },
          "metadata": {},
          "execution_count": 21
        }
      ]
    },
    {
      "cell_type": "code",
      "source": [
        "dfa.isna().sum()"
      ],
      "metadata": {
        "id": "r1szW50l_H5y",
        "colab": {
          "base_uri": "https://localhost:8080/"
        },
        "outputId": "b6f0fb40-240b-4ba9-9eea-bc45cfb83beb"
      },
      "execution_count": null,
      "outputs": [
        {
          "output_type": "execute_result",
          "data": {
            "text/plain": [
              "id                   2\n",
              "item_date            1\n",
              "quantity tons        0\n",
              "customer             1\n",
              "country             28\n",
              "status               2\n",
              "item type            0\n",
              "application         24\n",
              "thickness            1\n",
              "width                0\n",
              "material_ref     77919\n",
              "product_ref          0\n",
              "delivery date        1\n",
              "selling_price        1\n",
              "dtype: int64"
            ]
          },
          "metadata": {},
          "execution_count": 22
        }
      ]
    },
    {
      "cell_type": "code",
      "source": [
        "dfa.describe().applymap(lambda x: f'{x:.2f}')"
      ],
      "metadata": {
        "id": "TTtwU65tDOv2",
        "colab": {
          "base_uri": "https://localhost:8080/",
          "height": 300
        },
        "outputId": "93f32aae-4ce8-4356-ffa7-eba55cfeba7a"
      },
      "execution_count": null,
      "outputs": [
        {
          "output_type": "execute_result",
          "data": {
            "text/plain": [
              "         item_date       customer    country application  thickness  \\\n",
              "count    181672.00      181672.00  181645.00   181649.00  181672.00   \n",
              "mean   20204588.23    30512209.03      44.89       25.62       2.56   \n",
              "std        4551.12    24333815.58      24.40       17.75       6.57   \n",
              "min    19950000.00       12458.00      25.00        2.00       0.18   \n",
              "25%    20200929.00    30196884.00      26.00       10.00       0.70   \n",
              "50%    20201130.00    30205242.00      30.00       15.00       1.50   \n",
              "75%    20210203.00    30280416.00      78.00       41.00       3.00   \n",
              "max    20210401.00  2147483647.00     113.00       99.00    2500.00   \n",
              "\n",
              "           width    product_ref delivery date selling_price  \n",
              "count  181673.00      181673.00     181672.00     181672.00  \n",
              "mean     1295.29   473967910.72   20207381.56       1918.04  \n",
              "std       261.63   717510064.71      24110.59     331795.64  \n",
              "min         1.00      611728.00   20190401.00      -1160.00  \n",
              "25%      1180.00      611993.00   20201101.00        669.00  \n",
              "50%      1250.00      640665.00   20210101.00        812.00  \n",
              "75%      1500.00  1332077137.00   20210401.00        953.00  \n",
              "max      2990.00  1722207579.00   30310101.00  100001015.00  "
            ],
            "text/html": [
              "\n",
              "  <div id=\"df-dcfef97e-170c-4195-9d8c-bc8db9508eee\">\n",
              "    <div class=\"colab-df-container\">\n",
              "      <div>\n",
              "<style scoped>\n",
              "    .dataframe tbody tr th:only-of-type {\n",
              "        vertical-align: middle;\n",
              "    }\n",
              "\n",
              "    .dataframe tbody tr th {\n",
              "        vertical-align: top;\n",
              "    }\n",
              "\n",
              "    .dataframe thead th {\n",
              "        text-align: right;\n",
              "    }\n",
              "</style>\n",
              "<table border=\"1\" class=\"dataframe\">\n",
              "  <thead>\n",
              "    <tr style=\"text-align: right;\">\n",
              "      <th></th>\n",
              "      <th>item_date</th>\n",
              "      <th>customer</th>\n",
              "      <th>country</th>\n",
              "      <th>application</th>\n",
              "      <th>thickness</th>\n",
              "      <th>width</th>\n",
              "      <th>product_ref</th>\n",
              "      <th>delivery date</th>\n",
              "      <th>selling_price</th>\n",
              "    </tr>\n",
              "  </thead>\n",
              "  <tbody>\n",
              "    <tr>\n",
              "      <th>count</th>\n",
              "      <td>181672.00</td>\n",
              "      <td>181672.00</td>\n",
              "      <td>181645.00</td>\n",
              "      <td>181649.00</td>\n",
              "      <td>181672.00</td>\n",
              "      <td>181673.00</td>\n",
              "      <td>181673.00</td>\n",
              "      <td>181672.00</td>\n",
              "      <td>181672.00</td>\n",
              "    </tr>\n",
              "    <tr>\n",
              "      <th>mean</th>\n",
              "      <td>20204588.23</td>\n",
              "      <td>30512209.03</td>\n",
              "      <td>44.89</td>\n",
              "      <td>25.62</td>\n",
              "      <td>2.56</td>\n",
              "      <td>1295.29</td>\n",
              "      <td>473967910.72</td>\n",
              "      <td>20207381.56</td>\n",
              "      <td>1918.04</td>\n",
              "    </tr>\n",
              "    <tr>\n",
              "      <th>std</th>\n",
              "      <td>4551.12</td>\n",
              "      <td>24333815.58</td>\n",
              "      <td>24.40</td>\n",
              "      <td>17.75</td>\n",
              "      <td>6.57</td>\n",
              "      <td>261.63</td>\n",
              "      <td>717510064.71</td>\n",
              "      <td>24110.59</td>\n",
              "      <td>331795.64</td>\n",
              "    </tr>\n",
              "    <tr>\n",
              "      <th>min</th>\n",
              "      <td>19950000.00</td>\n",
              "      <td>12458.00</td>\n",
              "      <td>25.00</td>\n",
              "      <td>2.00</td>\n",
              "      <td>0.18</td>\n",
              "      <td>1.00</td>\n",
              "      <td>611728.00</td>\n",
              "      <td>20190401.00</td>\n",
              "      <td>-1160.00</td>\n",
              "    </tr>\n",
              "    <tr>\n",
              "      <th>25%</th>\n",
              "      <td>20200929.00</td>\n",
              "      <td>30196884.00</td>\n",
              "      <td>26.00</td>\n",
              "      <td>10.00</td>\n",
              "      <td>0.70</td>\n",
              "      <td>1180.00</td>\n",
              "      <td>611993.00</td>\n",
              "      <td>20201101.00</td>\n",
              "      <td>669.00</td>\n",
              "    </tr>\n",
              "    <tr>\n",
              "      <th>50%</th>\n",
              "      <td>20201130.00</td>\n",
              "      <td>30205242.00</td>\n",
              "      <td>30.00</td>\n",
              "      <td>15.00</td>\n",
              "      <td>1.50</td>\n",
              "      <td>1250.00</td>\n",
              "      <td>640665.00</td>\n",
              "      <td>20210101.00</td>\n",
              "      <td>812.00</td>\n",
              "    </tr>\n",
              "    <tr>\n",
              "      <th>75%</th>\n",
              "      <td>20210203.00</td>\n",
              "      <td>30280416.00</td>\n",
              "      <td>78.00</td>\n",
              "      <td>41.00</td>\n",
              "      <td>3.00</td>\n",
              "      <td>1500.00</td>\n",
              "      <td>1332077137.00</td>\n",
              "      <td>20210401.00</td>\n",
              "      <td>953.00</td>\n",
              "    </tr>\n",
              "    <tr>\n",
              "      <th>max</th>\n",
              "      <td>20210401.00</td>\n",
              "      <td>2147483647.00</td>\n",
              "      <td>113.00</td>\n",
              "      <td>99.00</td>\n",
              "      <td>2500.00</td>\n",
              "      <td>2990.00</td>\n",
              "      <td>1722207579.00</td>\n",
              "      <td>30310101.00</td>\n",
              "      <td>100001015.00</td>\n",
              "    </tr>\n",
              "  </tbody>\n",
              "</table>\n",
              "</div>\n",
              "      <button class=\"colab-df-convert\" onclick=\"convertToInteractive('df-dcfef97e-170c-4195-9d8c-bc8db9508eee')\"\n",
              "              title=\"Convert this dataframe to an interactive table.\"\n",
              "              style=\"display:none;\">\n",
              "        \n",
              "  <svg xmlns=\"http://www.w3.org/2000/svg\" height=\"24px\"viewBox=\"0 0 24 24\"\n",
              "       width=\"24px\">\n",
              "    <path d=\"M0 0h24v24H0V0z\" fill=\"none\"/>\n",
              "    <path d=\"M18.56 5.44l.94 2.06.94-2.06 2.06-.94-2.06-.94-.94-2.06-.94 2.06-2.06.94zm-11 1L8.5 8.5l.94-2.06 2.06-.94-2.06-.94L8.5 2.5l-.94 2.06-2.06.94zm10 10l.94 2.06.94-2.06 2.06-.94-2.06-.94-.94-2.06-.94 2.06-2.06.94z\"/><path d=\"M17.41 7.96l-1.37-1.37c-.4-.4-.92-.59-1.43-.59-.52 0-1.04.2-1.43.59L10.3 9.45l-7.72 7.72c-.78.78-.78 2.05 0 2.83L4 21.41c.39.39.9.59 1.41.59.51 0 1.02-.2 1.41-.59l7.78-7.78 2.81-2.81c.8-.78.8-2.07 0-2.86zM5.41 20L4 18.59l7.72-7.72 1.47 1.35L5.41 20z\"/>\n",
              "  </svg>\n",
              "      </button>\n",
              "      \n",
              "  <style>\n",
              "    .colab-df-container {\n",
              "      display:flex;\n",
              "      flex-wrap:wrap;\n",
              "      gap: 12px;\n",
              "    }\n",
              "\n",
              "    .colab-df-convert {\n",
              "      background-color: #E8F0FE;\n",
              "      border: none;\n",
              "      border-radius: 50%;\n",
              "      cursor: pointer;\n",
              "      display: none;\n",
              "      fill: #1967D2;\n",
              "      height: 32px;\n",
              "      padding: 0 0 0 0;\n",
              "      width: 32px;\n",
              "    }\n",
              "\n",
              "    .colab-df-convert:hover {\n",
              "      background-color: #E2EBFA;\n",
              "      box-shadow: 0px 1px 2px rgba(60, 64, 67, 0.3), 0px 1px 3px 1px rgba(60, 64, 67, 0.15);\n",
              "      fill: #174EA6;\n",
              "    }\n",
              "\n",
              "    [theme=dark] .colab-df-convert {\n",
              "      background-color: #3B4455;\n",
              "      fill: #D2E3FC;\n",
              "    }\n",
              "\n",
              "    [theme=dark] .colab-df-convert:hover {\n",
              "      background-color: #434B5C;\n",
              "      box-shadow: 0px 1px 3px 1px rgba(0, 0, 0, 0.15);\n",
              "      filter: drop-shadow(0px 1px 2px rgba(0, 0, 0, 0.3));\n",
              "      fill: #FFFFFF;\n",
              "    }\n",
              "  </style>\n",
              "\n",
              "      <script>\n",
              "        const buttonEl =\n",
              "          document.querySelector('#df-dcfef97e-170c-4195-9d8c-bc8db9508eee button.colab-df-convert');\n",
              "        buttonEl.style.display =\n",
              "          google.colab.kernel.accessAllowed ? 'block' : 'none';\n",
              "\n",
              "        async function convertToInteractive(key) {\n",
              "          const element = document.querySelector('#df-dcfef97e-170c-4195-9d8c-bc8db9508eee');\n",
              "          const dataTable =\n",
              "            await google.colab.kernel.invokeFunction('convertToInteractive',\n",
              "                                                     [key], {});\n",
              "          if (!dataTable) return;\n",
              "\n",
              "          const docLinkHtml = 'Like what you see? Visit the ' +\n",
              "            '<a target=\"_blank\" href=https://colab.research.google.com/notebooks/data_table.ipynb>data table notebook</a>'\n",
              "            + ' to learn more about interactive tables.';\n",
              "          element.innerHTML = '';\n",
              "          dataTable['output_type'] = 'display_data';\n",
              "          await google.colab.output.renderOutput(dataTable, element);\n",
              "          const docLink = document.createElement('div');\n",
              "          docLink.innerHTML = docLinkHtml;\n",
              "          element.appendChild(docLink);\n",
              "        }\n",
              "      </script>\n",
              "    </div>\n",
              "  </div>\n",
              "  "
            ]
          },
          "metadata": {},
          "execution_count": 23
        }
      ]
    },
    {
      "cell_type": "code",
      "source": [
        "dfa = dfa.drop('id' , axis=1)"
      ],
      "metadata": {
        "id": "WqN_AOZHcL2H"
      },
      "execution_count": null,
      "outputs": []
    },
    {
      "cell_type": "markdown",
      "source": [
        "# Handling missing values and visualization"
      ],
      "metadata": {
        "id": "6kOps2kQCKqd"
      }
    },
    {
      "cell_type": "code",
      "source": [
        "sns.scatterplot(dfa['selling_price'],dfa['thickness'])"
      ],
      "metadata": {
        "colab": {
          "base_uri": "https://localhost:8080/",
          "height": 298
        },
        "id": "h1FKBxR4-fBr",
        "outputId": "45e139cc-76d1-4a61-fce8-8b2f9a1791e9"
      },
      "execution_count": null,
      "outputs": [
        {
          "output_type": "execute_result",
          "data": {
            "text/plain": [
              "<AxesSubplot:xlabel='selling_price', ylabel='thickness'>"
            ]
          },
          "metadata": {},
          "execution_count": 28
        },
        {
          "output_type": "display_data",
          "data": {
            "text/plain": [
              "<Figure size 432x288 with 1 Axes>"
            ],
            "image/png": "[encoded data removed]"
          },
          "metadata": {
            "needs_background": "light"
          }
        }
      ]
    },
    {
      "cell_type": "code",
      "source": [
        "sns.boxplot(dfa['selling_price'])"
      ],
      "metadata": {
        "colab": {
          "base_uri": "https://localhost:8080/",
          "height": 298
        },
        "id": "zQ4J8WtFCOlr",
        "outputId": "3389be09-a6ee-49d1-cc13-ba2c903eea18"
      },
      "execution_count": null,
      "outputs": [
        {
          "output_type": "execute_result",
          "data": {
            "text/plain": [
              "<AxesSubplot:xlabel='selling_price'>"
            ]
          },
          "metadata": {},
          "execution_count": 29
        },
        {
          "output_type": "display_data",
          "data": {
            "text/plain": [
              "<Figure size 432x288 with 1 Axes>"
            ],
            "image/png": "[encoded data removed]"
          },
          "metadata": {
            "needs_background": "light"
          }
        }
      ]
    },
    {
      "cell_type": "code",
      "source": [
        "dfa.groupby(dfa['material_ref'])['selling_price'].mean()"
      ],
      "metadata": {
        "id": "e9ld_PAqD6oX",
        "colab": {
          "base_uri": "https://localhost:8080/"
        },
        "outputId": "8a0f3813-7141-4502-a37c-86ada44d746f"
      },
      "execution_count": null,
      "outputs": [
        {
          "output_type": "execute_result",
          "data": {
            "text/plain": [
              "material_ref\n",
              "-                                           867.30\n",
              ".                                           703.00\n",
              "0,35X1050                                  1162.00\n",
              "0,37X1260                                  1122.67\n",
              "0,3X935 DC01 NET GENT                       834.00\n",
              "                                             ...  \n",
              "zapytanie RK                                949.00\n",
              "zapytanie TL                               1069.53\n",
              "zapytanie ofertowe 013-10-2018-US-Serwi     819.20\n",
              "zapytanie ofertowe 043-05-2019-US-Serwis    574.33\n",
              "zapytannie TH                               957.09\n",
              "Name: selling_price, Length: 16563, dtype: float64"
            ]
          },
          "metadata": {},
          "execution_count": 30
        }
      ]
    },
    {
      "cell_type": "markdown",
      "source": [
        "# Removing Outliers and Filling Missing Values"
      ],
      "metadata": {
        "id": "OVTEhG17d4qI"
      }
    },
    {
      "cell_type": "code",
      "source": [
        "dfa['selling_price'].quantile(0.017346)\n"
      ],
      "metadata": {
        "colab": {
          "base_uri": "https://localhost:8080/"
        },
        "id": "1c2IrbeGN7CZ",
        "outputId": "821526a5-f232-4312-91ae-6d24a5e98d69"
      },
      "execution_count": null,
      "outputs": [
        {
          "output_type": "execute_result",
          "data": {
            "text/plain": [
              "288.7142360000198"
            ]
          },
          "metadata": {},
          "execution_count": 31
        }
      ]
    },
    {
      "cell_type": "code",
      "source": [
        "dfa['selling_price'].quantile(0.9891)"
      ],
      "metadata": {
        "colab": {
          "base_uri": "https://localhost:8080/"
        },
        "id": "wVYI7kX6QCBo",
        "outputId": "2221847d-ce42-4b08-8d6a-c863df50cb43"
      },
      "execution_count": null,
      "outputs": [
        {
          "output_type": "execute_result",
          "data": {
            "text/plain": [
              "1365.0"
            ]
          },
          "metadata": {},
          "execution_count": 32
        }
      ]
    },
    {
      "cell_type": "code",
      "source": [
        "df = dfa[(dfa['selling_price'] >dfa['selling_price'].quantile(0.017346))  & (dfa['selling_price'] <dfa['selling_price'].quantile(0.9891))]"
      ],
      "metadata": {
        "id": "nl-rHQe9FIvW"
      },
      "execution_count": null,
      "outputs": []
    },
    {
      "cell_type": "code",
      "source": [
        "df.shape"
      ],
      "metadata": {
        "colab": {
          "base_uri": "https://localhost:8080/"
        },
        "id": "_Hdo5qK6QUmy",
        "outputId": "6c8db293-5bab-4e5a-da4c-5398fc417a82"
      },
      "execution_count": null,
      "outputs": [
        {
          "output_type": "execute_result",
          "data": {
            "text/plain": [
              "(176524, 13)"
            ]
          },
          "metadata": {},
          "execution_count": 34
        }
      ]
    },
    {
      "cell_type": "code",
      "source": [
        "df.dropna(subset=['item_date'],inplace=True)\n",
        "df.dropna(subset=['delivery date'],inplace=True)"
      ],
      "metadata": {
        "id": "zL_9mwDUTgrg"
      },
      "execution_count": null,
      "outputs": []
    },
    {
      "cell_type": "code",
      "source": [
        "sns.boxplot(df['selling_price'])"
      ],
      "metadata": {
        "id": "PrXGZBieJh3R",
        "colab": {
          "base_uri": "https://localhost:8080/",
          "height": 298
        },
        "outputId": "6a3401d0-0a79-4dff-8f85-4d6843860ed8"
      },
      "execution_count": null,
      "outputs": [
        {
          "output_type": "execute_result",
          "data": {
            "text/plain": [
              "<AxesSubplot:xlabel='selling_price'>"
            ]
          },
          "metadata": {},
          "execution_count": 36
        },
        {
          "output_type": "display_data",
          "data": {
            "text/plain": [
              "<Figure size 432x288 with 1 Axes>"
            ],
            "image/png": "[encoded data removed]"
          },
          "metadata": {
            "needs_background": "light"
          }
        }
      ]
    },
    {
      "cell_type": "code",
      "source": [
        "df = df[df['item_date'] != 19950000]\n",
        "df = df[df['item_date'] != 20191919]\n",
        "df = df[df['delivery date'] != 30310101]\n",
        "df = df[df['delivery date'] != 20212222]"
      ],
      "metadata": {
        "id": "LFlY7ocEQbrs"
      },
      "execution_count": null,
      "outputs": []
    },
    {
      "cell_type": "code",
      "source": [
        "df.isna().sum()"
      ],
      "metadata": {
        "id": "jWdgk1C5bCp_",
        "colab": {
          "base_uri": "https://localhost:8080/"
        },
        "outputId": "b2b291ec-a03f-47aa-ebe5-8e124ec3d1ed"
      },
      "execution_count": null,
      "outputs": [
        {
          "output_type": "execute_result",
          "data": {
            "text/plain": [
              "item_date            0\n",
              "quantity tons        0\n",
              "customer             1\n",
              "country              9\n",
              "status               2\n",
              "item type            0\n",
              "application          5\n",
              "thickness            1\n",
              "width                0\n",
              "material_ref     75540\n",
              "product_ref          0\n",
              "delivery date        0\n",
              "selling_price        0\n",
              "dtype: int64"
            ]
          },
          "metadata": {},
          "execution_count": 38
        }
      ]
    },
    {
      "cell_type": "code",
      "source": [
        "counts = df['material_ref'].value_counts()\n",
        "values_over_200 = counts[counts > 250]\n",
        "df_values_over_200 = pd.DataFrame({'material_ref': values_over_200.index, 'count': values_over_200.values})\n",
        "print(df_values_over_200)"
      ],
      "metadata": {
        "id": "xr175kOfJ1wn"
      },
      "execution_count": null,
      "outputs": []
    },
    {
      "cell_type": "code",
      "source": [
        "df.material_ref.value_counts(normalize=False)"
      ],
      "metadata": {
        "id": "nTeUxcOQbgVD"
      },
      "execution_count": null,
      "outputs": []
    },
    {
      "cell_type": "code",
      "source": [
        "df = df.drop('material_ref', axis=1)"
      ],
      "metadata": {
        "id": "v9mlTEBNM91h"
      },
      "execution_count": null,
      "outputs": []
    },
    {
      "cell_type": "code",
      "source": [
        "df.dropna(inplace=True)"
      ],
      "metadata": {
        "id": "FbPwrHl3PNwV"
      },
      "execution_count": null,
      "outputs": []
    },
    {
      "cell_type": "code",
      "source": [
        "df.isna().sum()"
      ],
      "metadata": {
        "id": "StQiKAjndv0S",
        "colab": {
          "base_uri": "https://localhost:8080/"
        },
        "outputId": "2f6416ae-3391-41b0-bfb7-e666d864a920"
      },
      "execution_count": null,
      "outputs": [
        {
          "output_type": "execute_result",
          "data": {
            "text/plain": [
              "item_date        0\n",
              "quantity tons    0\n",
              "customer         0\n",
              "country          0\n",
              "status           0\n",
              "item type        0\n",
              "application      0\n",
              "thickness        0\n",
              "width            0\n",
              "product_ref      0\n",
              "delivery date    0\n",
              "selling_price    0\n",
              "dtype: int64"
            ]
          },
          "metadata": {},
          "execution_count": 44
        }
      ]
    },
    {
      "cell_type": "code",
      "source": [
        "df.corr()"
      ],
      "metadata": {
        "id": "r5T0G3qTFc4q",
        "colab": {
          "base_uri": "https://localhost:8080/",
          "height": 331
        },
        "outputId": "ecb5fbe6-edde-4a2b-e6c0-249a872060ca"
      },
      "execution_count": null,
      "outputs": [
        {
          "output_type": "execute_result",
          "data": {
            "text/plain": [
              "               item_date  customer  country  application  thickness  width  \\\n",
              "item_date           1.00      0.00    -0.02        -0.02       0.01   0.03   \n",
              "customer            0.00      1.00     0.08         0.00       0.09   0.05   \n",
              "country            -0.02      0.08     1.00        -0.03      -0.04   0.06   \n",
              "application        -0.02      0.00    -0.03         1.00      -0.13  -0.20   \n",
              "thickness           0.01      0.09    -0.04        -0.13       1.00   0.36   \n",
              "width               0.03      0.05     0.06        -0.20       0.36   1.00   \n",
              "product_ref         0.05     -0.03    -0.15        -0.13       0.07  -0.04   \n",
              "delivery date       0.59      0.01    -0.07        -0.06       0.03   0.02   \n",
              "selling_price       0.59     -0.01    -0.01         0.15      -0.32  -0.17   \n",
              "\n",
              "               product_ref  delivery date  selling_price  \n",
              "item_date             0.05           0.59           0.59  \n",
              "customer             -0.03           0.01          -0.01  \n",
              "country              -0.15          -0.07          -0.01  \n",
              "application          -0.13          -0.06           0.15  \n",
              "thickness             0.07           0.03          -0.32  \n",
              "width                -0.04           0.02          -0.17  \n",
              "product_ref           1.00           0.09          -0.08  \n",
              "delivery date         0.09           1.00           0.48  \n",
              "selling_price        -0.08           0.48           1.00  "
            ],
            "text/html": [
              "\n",
              "  <div id=\"df-96069ea8-a967-4523-939b-f678d6c26791\">\n",
              "    <div class=\"colab-df-container\">\n",
              "      <div>\n",
              "<style scoped>\n",
              "    .dataframe tbody tr th:only-of-type {\n",
              "        vertical-align: middle;\n",
              "    }\n",
              "\n",
              "    .dataframe tbody tr th {\n",
              "        vertical-align: top;\n",
              "    }\n",
              "\n",
              "    .dataframe thead th {\n",
              "        text-align: right;\n",
              "    }\n",
              "</style>\n",
              "<table border=\"1\" class=\"dataframe\">\n",
              "  <thead>\n",
              "    <tr style=\"text-align: right;\">\n",
              "      <th></th>\n",
              "      <th>item_date</th>\n",
              "      <th>customer</th>\n",
              "      <th>country</th>\n",
              "      <th>application</th>\n",
              "      <th>thickness</th>\n",
              "      <th>width</th>\n",
              "      <th>product_ref</th>\n",
              "      <th>delivery date</th>\n",
              "      <th>selling_price</th>\n",
              "    </tr>\n",
              "  </thead>\n",
              "  <tbody>\n",
              "    <tr>\n",
              "      <th>item_date</th>\n",
              "      <td>1.00</td>\n",
              "      <td>0.00</td>\n",
              "      <td>-0.02</td>\n",
              "      <td>-0.02</td>\n",
              "      <td>0.01</td>\n",
              "      <td>0.03</td>\n",
              "      <td>0.05</td>\n",
              "      <td>0.59</td>\n",
              "      <td>0.59</td>\n",
              "    </tr>\n",
              "    <tr>\n",
              "      <th>customer</th>\n",
              "      <td>0.00</td>\n",
              "      <td>1.00</td>\n",
              "      <td>0.08</td>\n",
              "      <td>0.00</td>\n",
              "      <td>0.09</td>\n",
              "      <td>0.05</td>\n",
              "      <td>-0.03</td>\n",
              "      <td>0.01</td>\n",
              "      <td>-0.01</td>\n",
              "    </tr>\n",
              "    <tr>\n",
              "      <th>country</th>\n",
              "      <td>-0.02</td>\n",
              "      <td>0.08</td>\n",
              "      <td>1.00</td>\n",
              "      <td>-0.03</td>\n",
              "      <td>-0.04</td>\n",
              "      <td>0.06</td>\n",
              "      <td>-0.15</td>\n",
              "      <td>-0.07</td>\n",
              "      <td>-0.01</td>\n",
              "    </tr>\n",
              "    <tr>\n",
              "      <th>application</th>\n",
              "      <td>-0.02</td>\n",
              "      <td>0.00</td>\n",
              "      <td>-0.03</td>\n",
              "      <td>1.00</td>\n",
              "      <td>-0.13</td>\n",
              "      <td>-0.20</td>\n",
              "      <td>-0.13</td>\n",
              "      <td>-0.06</td>\n",
              "      <td>0.15</td>\n",
              "    </tr>\n",
              "    <tr>\n",
              "      <th>thickness</th>\n",
              "      <td>0.01</td>\n",
              "      <td>0.09</td>\n",
              "      <td>-0.04</td>\n",
              "      <td>-0.13</td>\n",
              "      <td>1.00</td>\n",
              "      <td>0.36</td>\n",
              "      <td>0.07</td>\n",
              "      <td>0.03</td>\n",
              "      <td>-0.32</td>\n",
              "    </tr>\n",
              "    <tr>\n",
              "      <th>width</th>\n",
              "      <td>0.03</td>\n",
              "      <td>0.05</td>\n",
              "      <td>0.06</td>\n",
              "      <td>-0.20</td>\n",
              "      <td>0.36</td>\n",
              "      <td>1.00</td>\n",
              "      <td>-0.04</td>\n",
              "      <td>0.02</td>\n",
              "      <td>-0.17</td>\n",
              "    </tr>\n",
              "    <tr>\n",
              "      <th>product_ref</th>\n",
              "      <td>0.05</td>\n",
              "      <td>-0.03</td>\n",
              "      <td>-0.15</td>\n",
              "      <td>-0.13</td>\n",
              "      <td>0.07</td>\n",
              "      <td>-0.04</td>\n",
              "      <td>1.00</td>\n",
              "      <td>0.09</td>\n",
              "      <td>-0.08</td>\n",
              "    </tr>\n",
              "    <tr>\n",
              "      <th>delivery date</th>\n",
              "      <td>0.59</td>\n",
              "      <td>0.01</td>\n",
              "      <td>-0.07</td>\n",
              "      <td>-0.06</td>\n",
              "      <td>0.03</td>\n",
              "      <td>0.02</td>\n",
              "      <td>0.09</td>\n",
              "      <td>1.00</td>\n",
              "      <td>0.48</td>\n",
              "    </tr>\n",
              "    <tr>\n",
              "      <th>selling_price</th>\n",
              "      <td>0.59</td>\n",
              "      <td>-0.01</td>\n",
              "      <td>-0.01</td>\n",
              "      <td>0.15</td>\n",
              "      <td>-0.32</td>\n",
              "      <td>-0.17</td>\n",
              "      <td>-0.08</td>\n",
              "      <td>0.48</td>\n",
              "      <td>1.00</td>\n",
              "    </tr>\n",
              "  </tbody>\n",
              "</table>\n",
              "</div>\n",
              "      <button class=\"colab-df-convert\" onclick=\"convertToInteractive('df-96069ea8-a967-4523-939b-f678d6c26791')\"\n",
              "              title=\"Convert this dataframe to an interactive table.\"\n",
              "              style=\"display:none;\">\n",
              "        \n",
              "  <svg xmlns=\"http://www.w3.org/2000/svg\" height=\"24px\"viewBox=\"0 0 24 24\"\n",
              "       width=\"24px\">\n",
              "    <path d=\"M0 0h24v24H0V0z\" fill=\"none\"/>\n",
              "    <path d=\"M18.56 5.44l.94 2.06.94-2.06 2.06-.94-2.06-.94-.94-2.06-.94 2.06-2.06.94zm-11 1L8.5 8.5l.94-2.06 2.06-.94-2.06-.94L8.5 2.5l-.94 2.06-2.06.94zm10 10l.94 2.06.94-2.06 2.06-.94-2.06-.94-.94-2.06-.94 2.06-2.06.94z\"/><path d=\"M17.41 7.96l-1.37-1.37c-.4-.4-.92-.59-1.43-.59-.52 0-1.04.2-1.43.59L10.3 9.45l-7.72 7.72c-.78.78-.78 2.05 0 2.83L4 21.41c.39.39.9.59 1.41.59.51 0 1.02-.2 1.41-.59l7.78-7.78 2.81-2.81c.8-.78.8-2.07 0-2.86zM5.41 20L4 18.59l7.72-7.72 1.47 1.35L5.41 20z\"/>\n",
              "  </svg>\n",
              "      </button>\n",
              "      \n",
              "  <style>\n",
              "    .colab-df-container {\n",
              "      display:flex;\n",
              "      flex-wrap:wrap;\n",
              "      gap: 12px;\n",
              "    }\n",
              "\n",
              "    .colab-df-convert {\n",
              "      background-color: #E8F0FE;\n",
              "      border: none;\n",
              "      border-radius: 50%;\n",
              "      cursor: pointer;\n",
              "      display: none;\n",
              "      fill: #1967D2;\n",
              "      height: 32px;\n",
              "      padding: 0 0 0 0;\n",
              "      width: 32px;\n",
              "    }\n",
              "\n",
              "    .colab-df-convert:hover {\n",
              "      background-color: #E2EBFA;\n",
              "      box-shadow: 0px 1px 2px rgba(60, 64, 67, 0.3), 0px 1px 3px 1px rgba(60, 64, 67, 0.15);\n",
              "      fill: #174EA6;\n",
              "    }\n",
              "\n",
              "    [theme=dark] .colab-df-convert {\n",
              "      background-color: #3B4455;\n",
              "      fill: #D2E3FC;\n",
              "    }\n",
              "\n",
              "    [theme=dark] .colab-df-convert:hover {\n",
              "      background-color: #434B5C;\n",
              "      box-shadow: 0px 1px 3px 1px rgba(0, 0, 0, 0.15);\n",
              "      filter: drop-shadow(0px 1px 2px rgba(0, 0, 0, 0.3));\n",
              "      fill: #FFFFFF;\n",
              "    }\n",
              "  </style>\n",
              "\n",
              "      <script>\n",
              "        const buttonEl =\n",
              "          document.querySelector('#df-96069ea8-a967-4523-939b-f678d6c26791 button.colab-df-convert');\n",
              "        buttonEl.style.display =\n",
              "          google.colab.kernel.accessAllowed ? 'block' : 'none';\n",
              "\n",
              "        async function convertToInteractive(key) {\n",
              "          const element = document.querySelector('#df-96069ea8-a967-4523-939b-f678d6c26791');\n",
              "          const dataTable =\n",
              "            await google.colab.kernel.invokeFunction('convertToInteractive',\n",
              "                                                     [key], {});\n",
              "          if (!dataTable) return;\n",
              "\n",
              "          const docLinkHtml = 'Like what you see? Visit the ' +\n",
              "            '<a target=\"_blank\" href=https://colab.research.google.com/notebooks/data_table.ipynb>data table notebook</a>'\n",
              "            + ' to learn more about interactive tables.';\n",
              "          element.innerHTML = '';\n",
              "          dataTable['output_type'] = 'display_data';\n",
              "          await google.colab.output.renderOutput(dataTable, element);\n",
              "          const docLink = document.createElement('div');\n",
              "          docLink.innerHTML = docLinkHtml;\n",
              "          element.appendChild(docLink);\n",
              "        }\n",
              "      </script>\n",
              "    </div>\n",
              "  </div>\n",
              "  "
            ]
          },
          "metadata": {},
          "execution_count": 45
        }
      ]
    },
    {
      "cell_type": "code",
      "source": [
        "sns.scatterplot(df['selling_price'],df['thickness'])"
      ],
      "metadata": {
        "id": "onRik4KceQcw",
        "colab": {
          "base_uri": "https://localhost:8080/",
          "height": 298
        },
        "outputId": "ddeadacb-ceff-4efc-e61a-d1a5c5141c71"
      },
      "execution_count": null,
      "outputs": [
        {
          "output_type": "execute_result",
          "data": {
            "text/plain": [
              "<AxesSubplot:xlabel='selling_price', ylabel='thickness'>"
            ]
          },
          "metadata": {},
          "execution_count": 46
        },
        {
          "output_type": "display_data",
          "data": {
            "text/plain": [
              "<Figure size 432x288 with 1 Axes>"
            ],
            "image/png": "[encoded data removed]"
          },
          "metadata": {
            "needs_background": "light"
          }
        }
      ]
    },
    {
      "cell_type": "code",
      "source": [
        "sns.histplot(df['selling_price'])"
      ],
      "metadata": {
        "colab": {
          "base_uri": "https://localhost:8080/",
          "height": 298
        },
        "id": "ORxC6ET4EuX2",
        "outputId": "139da959-6585-4211-f6a4-adbed01ab9cf"
      },
      "execution_count": null,
      "outputs": [
        {
          "output_type": "execute_result",
          "data": {
            "text/plain": [
              "<AxesSubplot:xlabel='selling_price', ylabel='Count'>"
            ]
          },
          "metadata": {},
          "execution_count": 47
        },
        {
          "output_type": "display_data",
          "data": {
            "text/plain": [
              "<Figure size 432x288 with 1 Axes>"
            ],
            "image/png": "[encoded data removed]"
          },
          "metadata": {
            "needs_background": "light"
          }
        }
      ]
    },
    {
      "cell_type": "code",
      "source": [
        "df.groupby(['country','application']).mean()['selling_price'].sort_values()"
      ],
      "metadata": {
        "id": "xIpaOVozE6b_",
        "colab": {
          "base_uri": "https://localhost:8080/"
        },
        "outputId": "e246475c-8650-4a27-acd8-76696d84ab0e"
      },
      "execution_count": null,
      "outputs": [
        {
          "output_type": "execute_result",
          "data": {
            "text/plain": [
              "country  application\n",
              "38.00    59.00          411.19\n",
              "25.00    58.00          499.00\n",
              "28.00    67.00          501.08\n",
              "40.00    59.00          502.76\n",
              "28.00    99.00          551.75\n",
              "                         ...  \n",
              "84.00    22.00         1118.58\n",
              "113.00   41.00         1127.49\n",
              "26.00    99.00         1178.19\n",
              "38.00    29.00         1183.00\n",
              "         66.00         1219.00\n",
              "Name: selling_price, Length: 193, dtype: float64"
            ]
          },
          "metadata": {},
          "execution_count": 48
        }
      ]
    },
    {
      "cell_type": "code",
      "source": [
        "customer = df['customer']\t\n",
        "country = df['country']\n",
        "status = df['status'],\t\n",
        "item_type =df['item type']\n",
        "product= df['product_ref']\n",
        "selling_price =df['selling_price']\n",
        "from matplotlib import style"
      ],
      "metadata": {
        "id": "JPM55H3TR3QL"
      },
      "execution_count": null,
      "outputs": []
    },
    {
      "cell_type": "code",
      "source": [
        "sns.set_style('darkgrid')\n",
        "fig, axes = plt.subplots(nrows=1, ncols=1, figsize=(15, 5))\n",
        "\n",
        "sns.barplot(x='country', y='selling_price', data=df, color='royalblue')\n",
        "fig.suptitle('Visualizing categorical data columns')\n",
        "plt.show()"
      ],
      "metadata": {
        "colab": {
          "base_uri": "https://localhost:8080/",
          "height": 370
        },
        "id": "lBa-ZACJQeYt",
        "outputId": "58f5c0f8-6690-4a53-bcf4-c13111d534ee"
      },
      "execution_count": null,
      "outputs": [
        {
          "output_type": "display_data",
          "data": {
            "text/plain": [
              "<Figure size 1080x360 with 1 Axes>"
            ],
            "image/png": "[encoded data removed]"
          },
          "metadata": {}
        }
      ]
    },
    {
      "cell_type": "code",
      "source": [
        "sns.set_style('darkgrid')\n",
        "fig, axes = plt.subplots(nrows=1, ncols=1, figsize=(15, 5))\n",
        "\n",
        "\n",
        "sns.barplot(x='status', y='selling_price', data=df, color='red')\n",
        "fig.suptitle('Visualizing categorical data columns')\n",
        "plt.show()"
      ],
      "metadata": {
        "colab": {
          "base_uri": "https://localhost:8080/",
          "height": 370
        },
        "id": "YTSFheFHWB_S",
        "outputId": "1475251c-09bd-4120-c2cf-244ed6054a63"
      },
      "execution_count": null,
      "outputs": [
        {
          "output_type": "display_data",
          "data": {
            "text/plain": [
              "<Figure size 1080x360 with 1 Axes>"
            ],
            "image/png": "[encoded data removed]"
          },
          "metadata": {}
        }
      ]
    },
    {
      "cell_type": "code",
      "source": [
        "sns.set_style('darkgrid')\n",
        "fig, axes = plt.subplots(nrows=1, ncols=1, figsize=(15, 5))\n",
        "\n",
        "sns.barplot(x='item type', y='selling_price', data=df, color='purple')\n",
        "fig.suptitle('Visualizing categorical data columns')\n",
        "plt.show()"
      ],
      "metadata": {
        "colab": {
          "base_uri": "https://localhost:8080/",
          "height": 370
        },
        "id": "FI866TuKWCk1",
        "outputId": "e7526a9e-5b80-4467-9a1d-0452e44af45f"
      },
      "execution_count": null,
      "outputs": [
        {
          "output_type": "display_data",
          "data": {
            "text/plain": [
              "<Figure size 1080x360 with 1 Axes>"
            ],
            "image/png": "[encoded data removed]"
          },
          "metadata": {}
        }
      ]
    },
    {
      "cell_type": "code",
      "source": [
        "item_date = pd.to_datetime(df['item_date'], format='%Y%m%d')\n",
        "delivery_date = pd.to_datetime(df['delivery date'], format='%Y%m%d')"
      ],
      "metadata": {
        "id": "eLSxoUu2huZZ"
      },
      "execution_count": null,
      "outputs": []
    },
    {
      "cell_type": "code",
      "source": [
        "df = df[df['quantity tons'] != 'e']"
      ],
      "metadata": {
        "id": "swYfgWk_Pnol"
      },
      "execution_count": null,
      "outputs": []
    },
    {
      "cell_type": "code",
      "source": [
        "df= df[df['quantity tons'].astype(float)>0]"
      ],
      "metadata": {
        "id": "V-r6c8adfeb_"
      },
      "execution_count": null,
      "outputs": []
    },
    {
      "cell_type": "code",
      "source": [
        "df.reset_index(drop=True,inplace=True)"
      ],
      "metadata": {
        "id": "nxR9PSpibhfW"
      },
      "execution_count": null,
      "outputs": []
    },
    {
      "cell_type": "markdown",
      "source": [
        "# Labeling Categorical Data Using LabelEncoder"
      ],
      "metadata": {
        "id": "i2mxtfYPgG8N"
      }
    },
    {
      "cell_type": "code",
      "source": [
        "encoder = LabelEncoder()"
      ],
      "metadata": {
        "id": "G85UGJ8So4PQ"
      },
      "execution_count": null,
      "outputs": []
    },
    {
      "cell_type": "code",
      "source": [
        "df['customer'] = df['customer'].astype(str)\n",
        "df['product_ref'] = df['product_ref'].astype(str)\n",
        "df['quantity tons'] = df['quantity tons'].astype(float)"
      ],
      "metadata": {
        "id": "upNg22BrqbIK"
      },
      "execution_count": null,
      "outputs": []
    },
    {
      "cell_type": "code",
      "source": [
        "df['country'] = encoder.fit_transform(df['country'])\n",
        "df['customer'] = encoder.fit_transform(df['customer'])\n",
        "df['item type'] = encoder.fit_transform(df['item type'])\n",
        "df['product_ref'] = encoder.fit_transform(df['product_ref'])\n",
        "df['application'] = encoder.fit_transform(df['application'])\n",
        "df['status'] = encoder.fit_transform(df['status'])"
      ],
      "metadata": {
        "id": "pQFkVm_ro8Cu"
      },
      "execution_count": null,
      "outputs": []
    },
    {
      "cell_type": "code",
      "source": [
        "df.info()\n"
      ],
      "metadata": {
        "id": "A7R0dUxQpSMH"
      },
      "execution_count": null,
      "outputs": []
    },
    {
      "cell_type": "markdown",
      "source": [
        "# Spliting Data"
      ],
      "metadata": {
        "id": "YiRhZivDfDPI"
      }
    },
    {
      "cell_type": "code",
      "source": [
        "X=df.drop(['selling_price'],axis=1)\n",
        "y= df['selling_price']"
      ],
      "metadata": {
        "id": "vQC6NZ1lzJ2S"
      },
      "execution_count": null,
      "outputs": []
    },
    {
      "cell_type": "code",
      "source": [
        "X_train, X_test, y_train, y_test = train_test_split(X,y,test_size=0.1,  random_state=42)"
      ],
      "metadata": {
        "id": "-jf8F8cNzHTn"
      },
      "execution_count": null,
      "outputs": []
    },
    {
      "cell_type": "markdown",
      "source": [
        "# Training Data Using LazyPredict"
      ],
      "metadata": {
        "id": "huxeehP6fgZy"
      }
    },
    {
      "cell_type": "code",
      "source": [
        "reg = LazyRegressor(\n",
        "    ignore_warnings=True,\n",
        "    custom_metric=None,\n",
        "    regressors=[\n",
        "        LinearRegression,\n",
        "        Ridge,\n",
        "        Lasso,\n",
        "        ElasticNet,\n",
        "        DecisionTreeRegressor,\n",
        "        GradientBoostingRegressor,\n",
        "        XGBRegressor,\n",
        "        LGBMRegressor,\n",
        "       \n",
        "    ]\n",
        ")"
      ],
      "metadata": {
        "id": "WUCqMGWm6tKa"
      },
      "execution_count": null,
      "outputs": []
    },
    {
      "cell_type": "code",
      "source": [
        "models, predictions = reg.fit(X_train, X_test, y_train, y_test)"
      ],
      "metadata": {
        "colab": {
          "base_uri": "https://localhost:8080/"
        },
        "id": "fwrudUYN--yK",
        "outputId": "be1e8e1c-d659-412b-f816-49049b8ac90c"
      },
      "execution_count": null,
      "outputs": [
        {
          "output_type": "stream",
          "name": "stderr",
          "text": [
            "100%|██████████| 8/8 [00:41<00:00,  5.22s/it]\n"
          ]
        }
      ]
    },
    {
      "cell_type": "markdown",
      "source": [
        "r2 scores of models"
      ],
      "metadata": {
        "id": "M7pZ9qgnf0cc"
      }
    },
    {
      "cell_type": "code",
      "source": [
        "print(models)"
      ],
      "metadata": {
        "id": "wNaTVTIr_B_C",
        "colab": {
          "base_uri": "https://localhost:8080/"
        },
        "outputId": "44c2ef72-30b1-4cae-c5a9-54513fea1517"
      },
      "execution_count": null,
      "outputs": [
        {
          "output_type": "stream",
          "name": "stdout",
          "text": [
            "                           Adjusted R-Squared  R-Squared   RMSE  Time Taken\n",
            "Model                                                                      \n",
            "XGBRegressor                             0.94       0.94  46.65       13.94\n",
            "DecisionTreeRegressor                    0.93       0.93  51.59        1.11\n",
            "LGBMRegressor                            0.92       0.92  52.99        1.28\n",
            "GradientBoostingRegressor                0.88       0.88  65.52       24.89\n",
            "LinearRegression                         0.53       0.53 129.21        0.15\n",
            "Ridge                                    0.53       0.53 129.21        0.14\n",
            "Lasso                                    0.53       0.53 129.31        0.12\n",
            "ElasticNet                               0.49       0.49 135.48        0.11\n"
          ]
        }
      ]
    },
    {
      "cell_type": "markdown",
      "source": [
        "# Hypertuning"
      ],
      "metadata": {
        "id": "696_jmKXf62e"
      }
    },
    {
      "cell_type": "code",
      "source": [
        "param_grid = {\n",
        "    'max_depth': [5, 10, 15, None],\n",
        "    'min_samples_split': [2, 5, 10],\n",
        "    'min_samples_leaf': [1, 2, 4],\n",
        "    'max_features': ['auto', 'sqrt', 'log2']\n",
        "}\n",
        "\n",
        "tree = DecisionTreeRegressor()\n",
        "\n",
        "grid_search = GridSearchCV(tree, param_grid, cv=5, scoring='r2')\n",
        "\n",
        "grid_search.fit(X_train, y_train)\n",
        "\n",
        "print(\"Best parameters: \", grid_search.best_params_)\n",
        "print(\"Best score: \", grid_search.best_score_)\n"
      ],
      "metadata": {
        "colab": {
          "base_uri": "https://localhost:8080/"
        },
        "id": "-Xq3zGs6MX27",
        "outputId": "567e71c7-36db-4143-8e6e-30dfb973f331"
      },
      "execution_count": null,
      "outputs": [
        {
          "output_type": "stream",
          "name": "stdout",
          "text": [
            "Best parameters:  {'max_depth': None, 'max_features': 'auto', 'min_samples_leaf': 4, 'min_samples_split': 10}\n",
            "Best score:  0.9262248206926653\n"
          ]
        }
      ]
    }
  ]
}